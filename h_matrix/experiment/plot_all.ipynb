{
 "cells": [
  {
   "cell_type": "code",
   "execution_count": null,
   "id": "272b5b3c-8c94-488f-8dce-76dff2af1f25",
   "metadata": {},
   "outputs": [],
   "source": [
    "import matplotlib.pyplot as plt\n",
    "import numpy as np\n",
    "import pandas as pd"
   ]
  },
  {
   "cell_type": "code",
   "execution_count": null,
   "id": "bc96bb1f-78f1-4c2f-99f5-3e91d420a3fe",
   "metadata": {},
   "outputs": [],
   "source": [
    "# 軸ラベルからグラフ出力する軸を選択する\n",
    "LABELS = [\n",
    "    'n',  # 底面の分割数\n",
    "    'N',  # 行列サイズ\n",
    "    'Relative errors',  # 行列積の相対誤差\n",
    "    'Approximation time [sec]',  # 近似行列の構築にかかった時間\n",
    "    'Multiplication time [sec]',  # 近似行列のベクトルとの乗算にかかった時間\n",
    "]\n",
    "SUFFIXES = {2: 'error', 4: 'time'}\n",
    "\n",
    "def plot_tau_comparison_errors():\n",
    "    x = 1\n",
    "    y = 2\n",
    "    plt.figure()\n",
    "    ps = [3, 4, 5, 6] # 実験に使用したalpha\n",
    "    for p in ps:\n",
    "        df = pd.read_csv(f'h-matrix_double_p{p}.csv', names=LABELS)\n",
    "        plt.plot(df[LABELS[x]], df[LABELS[y]], label=f'τ=10e-{p}', linestyle='solid', marker='.')\n",
    "    plt.legend(loc='lower right')\n",
    "    plt.xlabel(LABELS[x])\n",
    "    plt.ylabel(LABELS[y])\n",
    "    plt.xscale('log')\n",
    "    plt.yscale('log')\n",
    "    plt.savefig(f'h-matrix_tau_double_{SUFFIXES[y]}.pdf', bbox_inches='tight')\n",
    "\n",
    "def plot_tau_comparison_time():\n",
    "    x = 1\n",
    "    y = 4\n",
    "    plt.figure()\n",
    "    ps = [3, 4, 5, 6] # 実験に使用したalpha\n",
    "    for p in ps:\n",
    "        df = pd.read_csv(f'h-matrix_double_p{p}.csv', names=LABELS)\n",
    "        plt.plot(df[LABELS[x]], df[LABELS[y]], label=f'τ=10e-{p}', linestyle='solid', marker='.')\n",
    "    plt.legend(loc='upper left')\n",
    "    plt.xlabel(LABELS[x])\n",
    "    plt.ylabel(LABELS[y])\n",
    "    plt.xscale('log')\n",
    "    plt.savefig(f'h-matrix_tau_double_{SUFFIXES[y]}.pdf', bbox_inches='tight')\n",
    "    \n",
    "def plot_arith_comparison(x, y, p):\n",
    "    fig, ax = plt.subplots()\n",
    "    ariths = {\n",
    "        'double': 'solid',\n",
    "        'float': 'dashed',\n",
    "        'low-rank': 'dashdot',\n",
    "    }\n",
    "    for arith, ls in ariths.items():\n",
    "        df = pd.read_csv(f'h-matrix_{arith}_p{p}.csv', names=LABELS)\n",
    "        ax.plot(df[LABELS[x]], df[LABELS[y]], label=arith, linestyle=ls, marker='.')\n",
    "    if y == 2:\n",
    "        domain = np.array(ax.get_xlim())        \n",
    "        ax.plot(domain, [10**(-p)]*2, label='y=tau', linestyle='dotted')\n",
    "    plt.legend(loc='lower right')\n",
    "    plt.xlabel(LABELS[x])\n",
    "    plt.ylabel(LABELS[y])\n",
    "    plt.xscale('log')\n",
    "    plt.yscale('log')\n",
    "    plt.savefig(f'h-matrix_arith_{SUFFIXES[y]}_p{p}.pdf', bbox_inches='tight')\n",
    "    \n",
    "def plot_alpha_comparison(y):\n",
    "    plt.figure()\n",
    "    alphas = [ # 実験に使用したalpha\n",
    "        '0.0', '0.25', '0.5', '0.75', '1.0', '1.25', '1.5', '2.0', '3.0', '5.0',\n",
    "    ]\n",
    "    dfs = [pd.read_csv(f'h-matrix_alpha{alpha}.csv', names=LABELS) for alpha in alphas]\n",
    "    data_y = np.array([df[LABELS[y]] for df in dfs]).transpose()\n",
    "    for N, d in zip(dfs[0][LABELS[1]], data_y):\n",
    "        plt.plot([float(alpha) for alpha in alphas], d, label=f'N={N}')\n",
    "        \n",
    "    plt.legend(loc='upper right')\n",
    "    plt.xlabel('α')\n",
    "    plt.ylabel(LABELS[y])\n",
    "    plt.savefig(f'h-matrix_alpha_{SUFFIXES[y]}.pdf', bbox_inches='tight')\n",
    "\n",
    "def plot_split_comparison(y):\n",
    "    fig, ax = plt.subplots()\n",
    "    strategies = {\n",
    "        'naive': 'solid',\n",
    "        'until-n': 'dashed',\n",
    "        'multiple-n': 'dashdot',\n",
    "    }\n",
    "    for s, ls in strategies.items():\n",
    "        df = pd.read_csv(f'h-matrix_split_{s}.csv', names=LABELS)\n",
    "        plt.plot(df[LABELS[1]], df[LABELS[y]], label=s, linestyle=ls)\n",
    "\n",
    "    plt.legend()\n",
    "    plt.xlabel(LABELS[1])\n",
    "    plt.ylabel(LABELS[y])\n",
    "    plt.xscale('log')\n",
    "    plt.yscale('log')\n",
    "    plt.savefig(f'h-matrix_split_{SUFFIXES[y]}.pdf', bbox_inches='tight')"
   ]
  },
  {
   "cell_type": "code",
   "execution_count": null,
   "id": "35369fce-b32f-422f-a8fe-0f3b96ca0335",
   "metadata": {},
   "outputs": [],
   "source": [
    "plot_tau_comparison_errors()\n",
    "plot_tau_comparison_time()"
   ]
  },
  {
   "cell_type": "code",
   "execution_count": null,
   "id": "7b0e21db-d7a5-416a-a255-8cff209e56d7",
   "metadata": {},
   "outputs": [],
   "source": [
    "plot_arith_comparison(1, 2, 6)\n",
    "plot_arith_comparison(1, 2, 5)\n",
    "plot_arith_comparison(1, 2, 4)\n",
    "plot_arith_comparison(1, 2, 3)\n",
    "plot_arith_comparison(1, 4, 6)\n",
    "plot_arith_comparison(1, 4, 5)\n",
    "plot_arith_comparison(1, 4, 4)\n",
    "plot_arith_comparison(1, 4, 3)"
   ]
  },
  {
   "cell_type": "code",
   "execution_count": null,
   "id": "74730560-a2eb-4288-8748-ae21edfd9def",
   "metadata": {},
   "outputs": [],
   "source": [
    "plot_alpha_comparison(2)\n",
    "plot_alpha_comparison(4)"
   ]
  },
  {
   "cell_type": "code",
   "execution_count": null,
   "id": "2dcfcbe0-44db-4e50-ba96-e72be118953f",
   "metadata": {},
   "outputs": [],
   "source": [
    "plot_split_comparison(2)\n",
    "plot_split_comparison(4)"
   ]
  }
 ],
 "metadata": {
  "kernelspec": {
   "display_name": "Python 3",
   "language": "python",
   "name": "python3"
  },
  "language_info": {
   "codemirror_mode": {
    "name": "ipython",
    "version": 3
   },
   "file_extension": ".py",
   "mimetype": "text/x-python",
   "name": "python",
   "nbconvert_exporter": "python",
   "pygments_lexer": "ipython3",
   "version": "3.8.8"
  }
 },
 "nbformat": 4,
 "nbformat_minor": 5
}
